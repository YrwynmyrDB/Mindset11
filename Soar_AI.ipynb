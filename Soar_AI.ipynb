{
  "nbformat": 4,
  "nbformat_minor": 0,
  "metadata": {
    "colab": {
      "name": "Soar-AI.ipynb",
      "version": "0.3.2",
      "provenance": [],
      "collapsed_sections": [],
      "include_colab_link": true
    },
    "kernelspec": {
      "name": "python3",
      "display_name": "Python 3"
    }
  },
  "cells": [
    {
      "cell_type": "markdown",
      "metadata": {
        "id": "view-in-github",
        "colab_type": "text"
      },
      "source": [
        "<a href=\"https://colab.research.google.com/github/YrwynmyrDB/Mindset11/blob/master/Soar_AI.ipynb\" target=\"_parent\"><img src=\"https://colab.research.google.com/assets/colab-badge.svg\" alt=\"Open In Colab\"/></a>"
      ]
    },
    {
      "metadata": {
        "id": "OH2XGHMWKiQn",
        "colab_type": "text"
      },
      "cell_type": "markdown",
      "source": [
        ""
      ]
    },
    {
      "metadata": {
        "id": "gJ0ki9WQIwMM",
        "colab_type": "code",
        "colab": {}
      },
      "cell_type": "code",
      "source": [
        "{\n",
        "  \"id\": \"aad6396a-4e7b-475e-9fa0-fbe657edd12b\",\n",
        "  \"name\": \"Whats the weather\",\n",
        "  \"auto\": true,\n",
        "  \"contexts\": [],\n",
        "  \"responses\": [\n",
        "    {\n",
        "      \"resetContexts\": false,\n",
        "      \"action\": \"Respond\",\n",
        "      \"affectedContexts\": [],\n",
        "      \"parameters\": [],\n",
        "      \"messages\": [\n",
        "        {\n",
        "          \"type\": 0,\n",
        "          \"lang\": \"en\",\n",
        "          \"speech\": \"I do not currently have that feature enabled.\"\n",
        "        }\n",
        "      ],\n",
        "      \"defaultResponsePlatforms\": {},\n",
        "      \"speech\": []\n",
        "    }\n",
        "  ],\n",
        "  \"priority\": 500000,\n",
        "  \"webhookUsed\": true,\n",
        "  \"webhookForSlotFilling\": false,\n",
        "  \"lastUpdate\": 1541102622,\n",
        "  \"fallbackIntent\": false,\n",
        "  \"events\": []\n",
        "}"
      ],
      "execution_count": 0,
      "outputs": []
    }
  ]
}