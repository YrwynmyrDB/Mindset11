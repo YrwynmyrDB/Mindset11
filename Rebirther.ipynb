{
  "nbformat": 4,
  "nbformat_minor": 0,
  "metadata": {
    "colab": {
      "name": "Rebirther.ipynb",
      "version": "0.3.2",
      "provenance": [],
      "collapsed_sections": [],
      "include_colab_link": true
    },
    "kernelspec": {
      "name": "python3",
      "display_name": "Python 3"
    }
  },
  "cells": [
    {
      "cell_type": "markdown",
      "metadata": {
        "id": "view-in-github",
        "colab_type": "text"
      },
      "source": [
        "<a href=\"https://colab.research.google.com/github/YrwynmyrDB/Mindset11/blob/master/Rebirther.ipynb\" target=\"_parent\"><img src=\"https://colab.research.google.com/assets/colab-badge.svg\" alt=\"Open In Colab\"/></a>"
      ]
    },
    {
      "metadata": {
        "id": "KW8eVuEFWFs9",
        "colab_type": "code",
        "colab": {}
      },
      "cell_type": "code",
      "source": [
        "var goldRay = {\n",
        "      \"type\": \"\",\n",
        "      \"title\": {\n",
        "        \"text\": \"Elder-Futhark-first 12 rites of the God Language\"\n",
        "      },\n",
        "      \"series\":[{\n",
        "        \"values\": [1],\n",
        "        \"text\": \"Cattle, investment, work\",\n",
        "        \"name\": \"Fehu\"\n",
        "      }, {\n",
        "        \"values\":[2],\n",
        "        \"text\": \"Uruz\"\n",
        "      }, {\n",
        "        \"values\":[3],\n",
        "        \"text\": \"Thurisaz\"\n",
        "      }, {\n",
        "        \"values\": [4],\n",
        "        \"text\": \"Ansuz\"\n",
        "      },  {\n",
        "        \"values\": [5],\n",
        "        \"text\": \"Projects, carreer, companionshsip.\",\n",
        "        \"name\": \"Raido\"\n",
        "      },  {\n",
        "        \"values\": [6],\n",
        "        \"text\": \"Kaunaz\"\n",
        "      },  {\n",
        "        \"values\": [7],\n",
        "        \"text\": \"Gebo\"\n",
        "      }, {\n",
        "        \"values\": [7],\n",
        "        \"text\": \"Wunjo\"\n",
        "      }, {\n",
        "        \"values\": [8],\n",
        "        \"text\": \"Hagalaz\"\n",
        "      }, {\n",
        "        \"values\": [9],\n",
        "        \"text\": \"Need, compulsory tie. search for the essiential.\",\n",
        "        \"name\": \"Nauthiz\"\n",
        "      },  {\n",
        "        \"values\": [1],\n",
        "        \"text\": \"Isa\"\n",
        "      },  {\n",
        "        \"values\": [2],\n",
        "        \"text\": \"Jera\"\n",
        "      }]\n",
        "    };"
      ],
      "execution_count": 0,
      "outputs": []
    },
    {
      "metadata": {
        "id": "vx-hqGEQWWZE",
        "colab_type": "text"
      },
      "cell_type": "markdown",
      "source": [
        "#Rebirther\n",
        "Limitless self-generated data that will later be analyzed and used to acheive a desired goal."
      ]
    }
  ]
}