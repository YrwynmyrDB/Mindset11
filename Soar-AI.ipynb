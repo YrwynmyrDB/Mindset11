{
  "id": "aad6396a-4e7b-475e-9fa0-fbe657edd12b",
  "name": "Whats the weather",
  "auto": true,
  "contexts": [],
  "responses": [
    {
      "resetContexts": false,
      "action": "Respond",
      "affectedContexts": [],
      "parameters": [],
      "messages": [
        {
          "type": 0,
          "lang": "en",
          "speech": "I do not currently have that feature enabled."
        }
      ],
      "defaultResponsePlatforms": {},
      "speech": []
    }
  ],
  "priority": 500000,
  "webhookUsed": true,
  "webhookForSlotFilling": false,
  "lastUpdate": 1541102622,
  "fallbackIntent": false,
  "events": []
}
