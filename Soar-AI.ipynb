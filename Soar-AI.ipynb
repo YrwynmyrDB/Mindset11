[
  {
    "id": "2f448d4b-8553-48cd-8908-88c8ec8ede5a",
    "data": [
      {
        "text": "just going to say hi",
        "userDefined": false
      }
    ],
    "isTemplate": false,
    "count": 0,
    "updated": 0
  },
  {
    "id": "84cfd127-dd54-462e-91ac-17281efb231a",
    "data": [
      {
        "text": "heya",
        "userDefined": false
      }
    ],
    "isTemplate": false,
    "count": 0,
    "updated": 0
  },
  {
    "id": "600fe05d-7edc-4ec2-989f-14a1370d0a9f",
    "data": [
      {
        "text": "hello hi",
        "userDefined": false
      }
    ],
    "isTemplate": false,
    "count": 0,
    "updated": 0
  },
  {
    "id": "20ae37f3-4a2b-430f-ad59-5a60bcb7d305",
    "data": [
      {
        "text": "howdy",
        "userDefined": false
      }
    ],
    "isTemplate": false,
    "count": 0,
    "updated": 0
  },
  {
    "id": "0e8ebb52-5231-487c-a016-937e5d9747e9",
    "data": [
      {
        "text": "hey there",
        "userDefined": false
      }
    ],
    "isTemplate": false,
    "count": 0,
    "updated": 0
  },
  {
    "id": "b0a514dd-4bde-4cc0-9269-772c44d1f318",
    "data": [
      {
        "text": "hi there",
        "userDefined": false
      }
    ],
    "isTemplate": false,
    "count": 0,
    "updated": 0
  },
  {
    "id": "b069ce28-3f8c-4c70-bbbd-65c759d6aa21",
    "data": [
      {
        "text": "greetings",
        "userDefined": false
      }
    ],
    "isTemplate": false,
    "count": 0,
    "updated": 0
  },
  {
    "id": "d5e2aa1a-ef8b-4178-b3e4-c25d3cea90a6",
    "data": [
      {
        "text": "hey",
        "userDefined": false
      }
    ],
    "isTemplate": false,
    "count": 0,
    "updated": 0
  },
  {
    "id": "8e3b2d31-1344-4e16-98d5-010597167380",
    "data": [
      {
        "text": "long time no see",
        "userDefined": false
      }
    ],
    "isTemplate": false,
    "count": 0,
    "updated": 0
  },
  {
    "id": "00a6d724-c2de-4cd5-a5a7-bb70d291c3b9",
    "data": [
      {
        "text": "hello",
        "userDefined": false
      }
    ],
    "isTemplate": false,
    "count": 0,
    "updated": 0
  },
  {
    "id": "ad17bfe4-c1b0-4852-b268-f99707cc18b8",
    "data": [
      {
        "text": "lovely day isn\u0027t it",
        "userDefined": false
      }
    ],
    "isTemplate": false,
    "count": 0,
    "updated": 0
  },
  {
    "id": "64b4777f-77ef-47e3-b7b0-d1dad2cea6dd",
    "data": [
      {
        "text": "I greet you",
        "userDefined": false
      }
    ],
    "isTemplate": false,
    "count": 0,
    "updated": 0
  },
  {
    "id": "3eb0588a-d1fd-4bfd-98af-9ff19596c917",
    "data": [
      {
        "text": "hello again",
        "userDefined": false
      }
    ],
    "isTemplate": false,
    "count": 0,
    "updated": 0
  },
  {
    "id": "9d88db4d-8662-4832-b31f-877b0c71cf2a",
    "data": [
      {
        "text": "hi",
        "userDefined": false
      }
    ],
    "isTemplate": false,
    "count": 0,
    "updated": 0
  },
  {
    "id": "7cc35b57-73fa-4f46-ab3f-270575c80c8d",
    "data": [
      {
        "text": "hello there",
        "userDefined": false
      }
    ],
    "isTemplate": false,
    "count": 0,
    "updated": 0
  },
  {
    "id": "746735bf-b1be-4530-a0ab-1e5c87cc2348",
    "data": [
      {
        "text": "hi there",
        "userDefined": false
      }
    ],
    "isTemplate": false,
    "count": 0,
    "updated": 0
  },
  {
    "id": "832f7c32-8061-4bb0-bf3b-81c2dd88f4da",
    "data": [
      {
        "text": "a good day",
        "userDefined": false
      }
    ],
    "isTemplate": false,
    "count": 0,
    "updated": 0
  }
]
